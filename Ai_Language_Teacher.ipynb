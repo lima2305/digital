{
  "nbformat": 4,
  "nbformat_minor": 0,
  "metadata": {
    "colab": {
      "provenance": [],
      "authorship_tag": "ABX9TyMyC/7MXAkKkTAeVV5PoI1P",
      "include_colab_link": true
    },
    "kernelspec": {
      "name": "python3",
      "display_name": "Python 3"
    },
    "language_info": {
      "name": "python"
    }
  },
  "cells": [
    {
      "cell_type": "markdown",
      "metadata": {
        "id": "view-in-github",
        "colab_type": "text"
      },
      "source": [
        "<a href=\"https://colab.research.google.com/github/lima2305/digital/blob/main/Ai_Language_Teacher.ipynb\" target=\"_parent\"><img src=\"https://colab.research.google.com/assets/colab-badge.svg\" alt=\"Open In Colab\"/></a>"
      ]
    },
    {
      "cell_type": "code",
      "source": [
        "!pip install googletrans==4.0.0-rc1 gtts\n"
      ],
      "metadata": {
        "colab": {
          "base_uri": "https://localhost:8080/"
        },
        "id": "9FL0EGfor5AO",
        "outputId": "e103f9bf-bca2-4311-f09d-bd93ec4156b0"
      },
      "execution_count": null,
      "outputs": [
        {
          "output_type": "stream",
          "name": "stdout",
          "text": [
            "Requirement already satisfied: googletrans==4.0.0-rc1 in /usr/local/lib/python3.11/dist-packages (4.0.0rc1)\n",
            "Collecting gtts\n",
            "  Downloading gTTS-2.5.4-py3-none-any.whl.metadata (4.1 kB)\n",
            "Requirement already satisfied: httpx==0.13.3 in /usr/local/lib/python3.11/dist-packages (from googletrans==4.0.0-rc1) (0.13.3)\n",
            "Requirement already satisfied: certifi in /usr/local/lib/python3.11/dist-packages (from httpx==0.13.3->googletrans==4.0.0-rc1) (2025.1.31)\n",
            "Requirement already satisfied: hstspreload in /usr/local/lib/python3.11/dist-packages (from httpx==0.13.3->googletrans==4.0.0-rc1) (2025.1.1)\n",
            "Requirement already satisfied: sniffio in /usr/local/lib/python3.11/dist-packages (from httpx==0.13.3->googletrans==4.0.0-rc1) (1.3.1)\n",
            "Requirement already satisfied: chardet==3.* in /usr/local/lib/python3.11/dist-packages (from httpx==0.13.3->googletrans==4.0.0-rc1) (3.0.4)\n",
            "Requirement already satisfied: idna==2.* in /usr/local/lib/python3.11/dist-packages (from httpx==0.13.3->googletrans==4.0.0-rc1) (2.10)\n",
            "Requirement already satisfied: rfc3986<2,>=1.3 in /usr/local/lib/python3.11/dist-packages (from httpx==0.13.3->googletrans==4.0.0-rc1) (1.5.0)\n",
            "Requirement already satisfied: httpcore==0.9.* in /usr/local/lib/python3.11/dist-packages (from httpx==0.13.3->googletrans==4.0.0-rc1) (0.9.1)\n",
            "Requirement already satisfied: h11<0.10,>=0.8 in /usr/local/lib/python3.11/dist-packages (from httpcore==0.9.*->httpx==0.13.3->googletrans==4.0.0-rc1) (0.9.0)\n",
            "Requirement already satisfied: h2==3.* in /usr/local/lib/python3.11/dist-packages (from httpcore==0.9.*->httpx==0.13.3->googletrans==4.0.0-rc1) (3.2.0)\n",
            "Requirement already satisfied: hyperframe<6,>=5.2.0 in /usr/local/lib/python3.11/dist-packages (from h2==3.*->httpcore==0.9.*->httpx==0.13.3->googletrans==4.0.0-rc1) (5.2.0)\n",
            "Requirement already satisfied: hpack<4,>=3.0 in /usr/local/lib/python3.11/dist-packages (from h2==3.*->httpcore==0.9.*->httpx==0.13.3->googletrans==4.0.0-rc1) (3.0.0)\n",
            "Requirement already satisfied: requests<3,>=2.27 in /usr/local/lib/python3.11/dist-packages (from gtts) (2.32.3)\n",
            "Requirement already satisfied: click<8.2,>=7.1 in /usr/local/lib/python3.11/dist-packages (from gtts) (8.1.8)\n",
            "Requirement already satisfied: charset-normalizer<4,>=2 in /usr/local/lib/python3.11/dist-packages (from requests<3,>=2.27->gtts) (3.4.1)\n",
            "Requirement already satisfied: urllib3<3,>=1.21.1 in /usr/local/lib/python3.11/dist-packages (from requests<3,>=2.27->gtts) (2.3.0)\n",
            "Downloading gTTS-2.5.4-py3-none-any.whl (29 kB)\n",
            "Installing collected packages: gtts\n",
            "Successfully installed gtts-2.5.4\n"
          ]
        }
      ]
    },
    {
      "cell_type": "code",
      "source": [
        "from googletrans import Translator\n",
        "\n",
        "def traduzir_texto(texto, destino='en'):\n",
        "    translator = Translator()\n",
        "    traducao = translator.translate(texto, dest=destino)\n",
        "    return traducao.text\n"
      ],
      "metadata": {
        "id": "nSKMBpz5r5sl"
      },
      "execution_count": null,
      "outputs": []
    },
    {
      "cell_type": "code",
      "source": [
        "traduzir_texto(\"Olá, como você está?\", \"es\")\n"
      ],
      "metadata": {
        "colab": {
          "base_uri": "https://localhost:8080/",
          "height": 35
        },
        "id": "9LXjK_7pr-99",
        "outputId": "623ccea2-2789-478b-9ad0-6223b9ea31d5"
      },
      "execution_count": null,
      "outputs": [
        {
          "output_type": "execute_result",
          "data": {
            "text/plain": [
              "'¿Hola, cómo estás?'"
            ],
            "application/vnd.google.colaboratory.intrinsic+json": {
              "type": "string"
            }
          },
          "metadata": {},
          "execution_count": 9
        }
      ]
    },
    {
      "cell_type": "code",
      "source": [
        "import gtts\n",
        "from IPython.display import Audio\n",
        "\n",
        "def gerar_audio(texto, idioma='en'):\n",
        "    tts = gtts.gTTS(texto, lang=idioma)\n",
        "    arquivo = \"audio.mp3\"\n",
        "    tts.save(arquivo)\n",
        "    return Audio(arquivo, autoplay=True)\n"
      ],
      "metadata": {
        "id": "Cn3F9pVWsEXE"
      },
      "execution_count": null,
      "outputs": []
    },
    {
      "cell_type": "code",
      "source": [
        "gerar_audio(\"Hello, how are you?\", \"en\")\n"
      ],
      "metadata": {
        "colab": {
          "base_uri": "https://localhost:8080/",
          "height": 75
        },
        "id": "HGfZ7ke6sRnA",
        "outputId": "a0460378-c78f-4ef2-e33e-be44b202b196"
      },
      "execution_count": null,
      "outputs": [
        {
          "output_type": "execute_result",
          "data": {
            "text/plain": [
              "<IPython.lib.display.Audio object>"
            ],
            "text/html": [
              "\n",
              "                <audio  controls=\"controls\" autoplay=\"autoplay\">\n",
              "                    <source src=\"data:audio/mpeg;base64,//OExAAAAAAAAAAAAAAAAAAAAAAAAAAAAAAAAAAAAAAAAAAAAAAAAAAAAAAAAAAAAAAAAAAAAAAAAAAAAAAAAAAAAAAAAAAAAAAAAAAAAAAAAAAAAAAAAAAAAAAAAAAAAAAAAAAAAAAAAAAAAAAAAAAAAAAAAAAAAAAAAAAAAAAAAAAAAAAAAAAAAAAAAAAAAAAAAAAAAAAAAAAAAAAAAAAAAAAAAAAAAAAAAAAAAAAAAAAAAAAAAAAAAAAAAAAA//OExAAl4rYMAMIMuQwgXadVqvhhhipF0O419rbX42/8P25XD4NAFBEGA0VgUCJTli54ueXcCiVCTaP8U5BkoiJ+iO7v3fjYdoe/ccwhGe9Ygh4IZ2u7uyYXdxBhCIIEIPTs9Oz07QghERGe7vce98RjRERG3d3d28RER2iE9jx3xM4AAQDw/iMu/+MHz5j8BA/n/x2CDgjwAePpDwwAAAB39Hx1BCx5BJONUfp4s4u+kQhmDIZkc5Dbt5MUQ0g9//OExBso0kY0AMsSuIjqyfQSyAYqlhwTC+ZEY0AWO/36zDThfA+qAgWE684Sk+A8TiWO+JBARLzNtSBALgEBiSDII9OvQRuDmGGyeepWRm8ZeFEJsUEmwrygmjWJIwgjhi6NSLCaP0xC6fHahGbfbKFwfNBEPnCjTUBniIffcGxUH1PSXKvZlNooSXf7A06URJ6N2QqVCkPk4YVVJFZGNngkHMsnkywb5rn8cBPCUGaRgH2ANknEXHkgYyKZDnUa//OExCowcs5YAHveuPJBSqc4zTjKw6DQTZ+BIE0MoTAWA8Ib9SI1HQz8RKPhoZdCCfqpSpZgbTwMYkmi7rbxOKiC7kUDyI3ubyChfvIoHqYXJ0No/zoV6SOBOKdUN7PCiRHOkWZXyKyDtg03rF6H+twImYzPAiTsFb413937yV/HjsDI8eQNQIjx/P9Xw816Up83hziN6KChzD0Hyk0H/0/t/OetICDzC6sa9ei1YPK+QpEMB7XGGO+3Nr6vyUZe//OExBssEm50AGYYuOflSEaYfOPFH2ow38keSnk7wOBIJI48aeFXe7bfQ2/MLj+5iD34hicjFI0/CCsHADATSUIAE2lZYoM325lyCLF7l37VXLy5Cd+zahkluZL3XC7lPmG67OcjjnvWVXMNzjCZ2BZqdZNSvGwu7ffuktz0goZOA/YOOnWlzZ5UqgyDl4INFQ4cWGVC25sI0y93IXHLH71kFYDj89FjDKjgPAU4bg0Bn5gxZWBLIQl32lsuMEIA//OExB0tgkJ8ANYeuM8iOgDUrAKY00Bx2VpAJtgZbHpXt+HHavTyj0MFcSF2F3uwoBGJ13oe99pZTxqfvWJLGJPyYuR13XtZ03FGq466jMFWTxpfW0aSSM/xqls6vFi0s9kxNBhTwKQoGmDx5NVreJjDyBeTVcPIHrX4vq1JNRYDWjxrjMqx7FizDsVwSMrVsLVWLhYmfZWfSVlZNV4qomQFRovf6HphFew7JotKCoFesDQGFA8ztgSRe6aeMwUh//OExBouY5qEAN5KvTiUVB9k6Xpe0yFhMeBHzjsPGhKJJUHz7RANZSOpBjdBiIi1ct2pqUojKhhqV16zD8blTkA2rX42ZRf/KxqrnhTyWkbLL7t2v3hVFxg4aUYqDiHaVTxRDCZQmIEEhI7kcDoGIODgHDxhQRFhdHnHLKqEu6R5zKWZNk+8lVe//XZf/+hCNUTFw+OHjVqLHMqiZlV3HdhirlP1V51X4jr9E9W7YzlC+zOUwNHfiflSippuIsfh//OExBMqGyKQANZWvcoYYGGJ72yZCJMSdgG1H2urHcqSQVySvciUzEFGTSNLv87q+hAyVvPnQdmmQr0wxyxpH77v5l+YvvXZVRW/19BP1N9uPtG7W9YwyGIO1zdM6Z590lpPtrZcb3KJqbB4JrnnDejc6kS0D7nPY+d7pfMt10Hydib7//76i6n9v//////Ffcb7irpnUxoAkRAE5wFucDTRSqHO/ZfowMPAh9vBAK5QKDDM0MCoUVK7UcHBSbwX//OExB0twyqEAObavCNQJeGanQuBGBqimT0Rp1BCCAcSZrT0FOWhMXBGMqW8iLGko7+ru4Kh+//5TNruOuym3//ytf/8rsp5z9VXZx3jxE1HkgpIfR0C/lk+dHxnsYj2KC0zEfQfC+XkU0C+iiiamRapJ0kXqSWan6aKJkfSSos/+y00b6SX//9J69V0X1JH6kUTUxDIiQeFzsXY1+X9hupZFcCz75l6XY3lZBJbGiIItOZSuUYBwyTpA3AIowEA//OExBktk7J0AO6U3TSKXyOA4YwoUZLAIl1Aj/vojWTcJa7UGAxqeTOYcPPtZijtmAKo5xXuEaryLW/rTUD5/rcRp9f+6Xv5flWz//3V/P8s+W+95lEpu3dvxJPZpkotWbkuzKksVQuRMYwagTARA1DIjmmsbmj04xc2fms/v/97Tnzbf/+2hiHdv6d1Rl0OdHr3YxXdVLK2zKXzCJHAUWsQ7CKDCgByoPrqfVzZDJ2gmD4mG34Lr3WkIQIMAAvM//OExBUtXCJwAOzQ3SmIDjwwzCIMEjYaTkMDQgM5AEGgBfOlIuLCBiOHqETHQOANVgQsOEnkUyChZEfOPccPQctJKZaZYNlqyiq1jM/st01aRmt3nB/Pl85HcShVRTmbnHTriPcONLAKHhNo8/C0Ibz+t1/N//////a3cf/////CPZAp2KXHx1c3//6U7fxEdV8VC3BV2VMRMKdSGDCA/hFaOqri9douaQh1GY1VwltiNs4MAxNM/QCQHtwYEXBM//OExBIqtB6AAO0U3SEcjk8bWLJcuUMgGYCgSY4luLDM018ywgAaMDjTcpEEIiAavAGLiD0SfOBrxAM4iqNQiDclDRtZzVnXq1v60l6azVI3W5fHAYF1M+kRYnKbMQnmKcikY3MYoFYJZM63HhP1ImtnN/0MMb9DXt//185XICjEbOcWJJU4r7/Pe/Yz/2olyRTqERrmGmWcx1cylZ+1Vq6o5PIYPaCzcmWjCieYWaNxllLEiQTO6pCgM+CFUYBN//OExBorm56MAN7UvWvIqgiXMH9nCwOiQZNz8VlooGmUBFJWjEteEqAykP3ugZXbw19aNPxz/1Ksf/+VcO//44591+MzL7etXIkNziQiCiCIIHMJSU4Qr0UhEc6SsHogBFkJo+FYL4hLuhxQnY+o9Rc0hMPPeprq7nnW3dl//626+5EpjuaylWMZqpunes//9vpWYpEVwqX/u/Z16PXjnHNKmr1+xC0sRdxQsf+hgZehzKeULjrQK+AKMwBZ4BZK//OExB4oCwKMAN1UuJ8W5BMPlAscCocK5EyZABC4wBziKjlkiJWCwcP0EyGhyj1URj76Q+k76jZvEoteaKoW2LGiCACjI1ppgrM1DnL9SEQjDEkOGQLQnmqyoT55oqheEM+gqjrGaH1VTTKtfr///57OZNUiedtP3I2RMqo0/9SjwqHxRQE0MQdDqhGIgQRVw1ugbCOjxpJq6UTzjpbo5JnUzkjMyACIhMR/wc6rjU9I8goLI24VpPJFKBo8l8FX//OExDAi4gKQAN7QmGVO2FwNSOGdTCSOLl/8rxTuufXhpuYQhfhBADmuKHgKCyVA0Sm1XwqxLv/aHndipZ5wAVne3YfHqeIq25Y8WY0NClAOlmO/+qVAtmi+sz//0VCA1z31gcWhAyHV7zXIbQYNvEGh0VdJYzJiODJBYOpGEmChJoLqf7yUNHnrBQIY4YGGmlStcipAYMQ6tBlzsOQgkbo/V7GngCOw7hTy+gmZbeqUmNLZs4VL1rf/rlr2FMnz//OExFcmokKQAN6SuCSsBglJmTL9hschk53vy4SzoA+TDYVJTMV88qnUotNa9W4YnGEv/vvf9z2nv//QZOJFSshLMdQn/9y5hF34cWYYo8Flx5uOIcTE5gg8stvhgsdL8edEHFoASIfo6RY57J2FUjFEDNGiJO/jGIBZ0LMzGCS9CRCCQxRJAWXZglhj8Ou4r80UopZVevWae5avWP5fukyyw3T4nHkFhGGwyFQIh2MPLz1OUcNuWT9Ik9DAwHo2//OExG8lKfKMANaQmKR3P1D6osjiRY2i3J+LOPf/0rURQSNqsFUrK//6ky3Z6pIy1R9Cy3MJPmVsJrxOkgpyPARlFsULyEowEVMdITXVs1wnGgAEAxw4nuYACVKAoMTCArM4FTEXNRoxGQH0bUoAVUbXcpi+krd6KSOMym7QXaO/W3c7vtTHtq5vDLuWt3cLBw0HApwFSgFowHSIfsikLmtR2VVQw00sXC6ISUe1NoyPW6seVOLqYcqf92Tb//////OExI0ncvKIAN5UuP0yZD2Vm7kUn//7v/yyYNiGbCW/WgDAojnRIFk5gBIcFmHBIKVhhoqYvpnl1RWesAMUDjT0EzEcMJAzBysykOUaFgRg0oG9mycmfbCXc64Ea4g4Ur9TNuDTpC4kO1pVJKtr8+2crV/Le7m+Vq17L8e/396pq0w+T6xneWXd5f+Osvy1j3+f2tmJuruqqvq2q4WazN/6TGb/////01ZmtTbnZv////////VyLOZLi3FR2amj//OExKInhAZ8AN6K3QKeOsF4AcoxaqMaDVEguFmb6p8s4EIasBgQ0aycCw1bMNLQ48aStEw0hMaBEnVyiMkOKPzEBUiCWPpY34i7cL5csT2Vbl/7ud7Led7LDC/jhhfx5f52/P0lq2/cG0F+/Z/PK7/MdfzesL9rGvbh+oYS/Tp6IioKcOSz/9kqxv////9vtJglIcxdf/TuxKKj//////mMLEoST8pVUNfJfhi9LC1ZSbMAAMziPDCQAR4BocOE//OExLcni/J0AN7E3B+Ig2mYXOMrgRqa/SoCP0TCBqnZkWZsDYKAhcYaSEeaqVmFvEoVBVxZpnsO25mHsu7i2X9nccLdmzynyy3Utd3a1zV7ezp6YhWBdSiiXzXL5s9B3WkkyCNET8uGzvZddbvslTSXPskl///////9ktdTXMlJzRNv/PgUW///iIqM/WoYAaCgUCpnedm4AuDgUr40EyzCgPL2ih2M6olQos0nIBis0ZPoFAoyYBW9XmbLSYYG//OExMsmWuZsAOaauKbkIA58AmIr+aS+FWtMLWp+wTLcPs9/czZ/ct527rHep3X1efjd5lnZ+ak+UqgaZ7zd7f95+Gd7H60VlOEFx2oQd9i/WxxLiwjK//+ha/////Z5mZnpQp2Mj23//oqoafdP////X6nKcrsen+gNmgYCJgQBRgGJJop4ZguLbqmEIRGMJ9GMoRioCmGpeG1aQBhBOoEA0IQBU6SOBgKmCQFlAHg4Gj1iN11XRoEmQ2TCtBdF//OExOQn5DJcAOaE3Q1h+jzkLvv09MVxqUlN2W1qGY1atSu7Iaazflsvv4c7fxm/wp8MYBb6WUkOv1SapssPtc5jYz3HJu1rc3DoFAFyI5j35RYxjFRDIuZv0WV+lv//+cqHIymlZMzGoqOgtdpL2Sq0kM4sQWAJSqO39O3+n/ZLuV2GiosLbc3OG0jai6GxjkJG3pObvGw8JErzJKGMagwxWFBEATBA3ARYKA+mKrmQvys0wUhUo27AdcbZCvDG//OExPcw5AJAAO5K3S1RKZstZBnEqWHqF/qWHoGooGpLVLHMN2amdrtSnjXv1df6vRUfNZXccccccas5XoXRx/HzI5XRxg4oCOwIKGMpaX1aZUY0oJSKZTdX/Knauv6N/+sKV/Zf9lsqOhuZ7t1RGEqwiFET2h2uKir71GiKBrWh+nRZAI0ByaAOzhhVzxIiBSSFqgpnjqcxe5XNl5FMm3f8sCOJBCIIEDVqgaA70A0LfOPCGBV2UuXALzOLGs4b//OExOYp40o4AOZEvLlqevS27PSG1RR/Go/7dDy3Tz01trr2Xfq6sufpXFlrTnbVqbd+phddMsX/e+Z9ty/z3ZK5Dso9x/OFJ/6LImDK6aXG88k27jtBGoYuoocbTCl+bu1Mbbc3y4/LX146p5vi5XfjOuVc5zla3aoESnMys5RVdDzqq0kEyJpSGRaMHEyC4yBj8JWFBRJpCsbAJgRNOcSAyVIVIlWl7mhOnCWNOwzJTZ/5h3Zy7O1ZrPOU2alJ//OExPEqofYsANYYmU+cMMSfqGb01z+z+G+Y1u1Jm9aszUumZbNYd/DPWVSvy9lKK8qobRDAxFfmqExqaoijEBAbmhPKlhO41OsrT3JWKqYgwmsRFUOLbULWQjr2SRKtdMXnc813UOZMjGpgkya51SU96k2GucvmNNVR267ZiFYkaiZVNyowJSt6idWatVYrAuMQaVfu4QK6TXfl6gLpFtQwok+/aKMTSrm2JEYoD+iujsGY0W9d7tJEYokCjk37//OExPkvk/ocAM4G3c0krn7xFq3+mLPt71WtPK81jcaBa72TFdPhaQMEpUnCLQcVkoAYVmI1fcCB0K1BxirDvBDHCCkHioTuECkMS0Y3RUSHUEVGCpRoZQkaGampqQ5+VdyMSHrWKsBilsVdMURDvrRVZBAJLYSCpkODdhYkXl2QZKrVO1QH3FvZf2N02VW1Kq01EotAz4OU7zOYmIRIAwFa8lxSJATEA+jZTpGipWST13Nye2/DjKq7mWoJbMos//OExO0sDAoYAMvG3e5qUG5pLfVYxSPOmsgRakmrGWLS5VOHd2UMdCIprObMNo7DXIsyNJsadqM5fRtbJorLMAgpzNZdMfBpAoiSAneImEX3wXoxGrogke4miL7adw/ZBi6PwkiMMHb9dCIRHl3Vwc53Ow+CtKPJhSWl4nZRE4lFp4ylx8o2murRvEUjArZKoOprf2KWcnLk18Vl8Nv79mkqvMthUETdbCC0nUhtMo1rnKmrJZrtMH1TTRMKmCd0//OExO8utDoMAMJM3JSTDoLI7Q7kiAtnlkqZaOoEH12o4y89amPy0jr18SIoJfybSMuXyyji4IQiQ6TIl4yMRMPf7JvTQjhuEGjYLqqPPUkjGNaaoyNU85u8imWSZ6d58F+93CKFoVrlIFdvJ26Va0NPMLaYQpAaSs3/lloZNyZby+6sED0hYooIopgy2Sw3WieeNSjrP5yL08ll8OQI0tj5qA8LgOPNLG9P0yiPPsTJaXXSO8lP0JRzV8coyT2G//OExOcr3BIMAMJM3XZXMXsfetaRMXPK7WkdVKT2vjfjb+D4mqXrhieMVDRRy7OZnUj9wtsD3M073tIbbmvycn2DjHs2Zt620coAOfJS7Gu6pdxOIoOzFLo9yOOVaFYxmTe74k2ajNNo8lWSY0/mbptLmKwt0M2mX36VZ6q6e5Td5zbMo1GV1S0JgWRyEDBjHIAMgMMWAShCYGCjJBgAmNoiMoODgCYihohEG/VmLSm3nmrDBQNjJqlDXocebMZw//OExOosbBYMAMMM3cZzsmaWGHtfb9g4MENVsIfMclgEqeNR5HxoE6AFjsYAqoQ+WwcMUAKwEfGRvOCCFqzSwlRBIXrdB1BgADMLnGCC3qJRnojR66EBBgCLdWHZk6s61+jYHD0YiceikoicjuS19H9LGXQp4B8iHvwNcArXClQglZc3ZfC8Ig0C2F+FwHuOMv5e2B6tC3mWMMTNFIB+/ivGBthIseteUq2c8kCLfbfCeXaVZETilc4l4eYTfdzg//OExOtN5CoQANZe3ThekB1LNiJpzfKx/Hhrd6v8SsCsYGG8F3mHelIUqHsEJ/ur+Hd5vEvh6jUhZl1abVrvmSeWHCliP3+I8KmbyWxA3GvfusSx7d/JoLC1bLL3Nnnved9KN8GxvCnvPCoAAZAIrAXEFgQqYliBikhSCgcZNNUFTGWOZ6oGnbmt1SsApg5dq7WhUMHFviy5fLnMKZqkInoMFBAJIIjSvJqC210M9mlaHjQ8HhFA1hE5Ky52Tw+C//OExGY/Cz5IAMZevIBY8YLUcVOXMZo+7wsvgd/0++0yKY6Eor3yjLglE5KojDL4f6tEnV5iFwKU1lU4os/y3qtyQi7m5sTGaBkKxWHIsIoQ8845KGCIWxfcn7YqFZBxHY9lsaNx4m1Oq5E+aZ1zyODAyKCG3TQKwHjfekBWPIjAWxUPGzTx5nGq3pK/tp5Eh/VvumocfD22XLlD5xSwcs7ny6qqCu15nmVmmSC1L7tPLtWCwLjdRzF4l2yyYMuh//OExBwtGwZwAH4YuNkey/KzVOpe6bsu06jiQ06MFwiHY7B7luY/TNEn4egtj7F4LllNnFnZi8AQJhDDHncTUcxrYASIA5UHO6s8SsOU/UiRRytmc57lpbWnbyU4Iba48HVFeA9tSV7/HvPruvWsbis8uxlJutaWXtX3kl7Pz946Lf9mtJ6XPt9J3K3rnd/TndX5+Zme+e6MohD1NYsZo/X2/vf9FYDkfpbmcZVQdoJwN0auBEBkF5vdth6AhCBk//OExBot+mJ4AMYYuMmCXgTEKgVvMlcKLApQDYpqjuu9ItiTtP4sOwpLxiLNnzLvpePM9DN2sMClsdgp26aKQ7Fsm1hiJPwgIh66sM/LQAhLlCafK0J5ay5lsxukrnmWb99GeQqRGKJ+5RPZa1cmW1jhdgtSiFBXLGW7H17nq1mcu6sjZs18P/k/642ecVDLxdAJMJLEgRMESanJQRS5dC2CAQO1/VR6E/8kbHA8bjA4HP+EW602B23MHECYCEMK//OExBUq+iaEANbemFiCEfNFBSyYYLLCRM02NM3AUGHAKgeY6lHNipKJl6HaZuYcBBAG4yySQLJAYxMnEgdQRN1MEIFxYga1S0z9FoIEjWNBDkrplCrj3LYskuesoMgFpOq2tubWu+6Sx/q81Pj3Y42t4hs+c13vMPGmtR2pWCc63SkTGL6x4O77+n8dj7ZNNaRv2Knwi1H/9onNmTFn9DHMGSuCYVuoz85QjcqF0r1lQaO0DEgIffQVA5m4rg4j//OExBwuEiqEAN8wmJd9B9lhgy7mCg4FgC4ABAYoGjLQ/MlgdKxyX/JR8ZjEKp4xCRUYGsSgYSBCnFqViIDkQxc+ZnaBda1Klra+k+4bl1N6SrkV6k0rcACiQ5W/sysFKNbwgF0IxY/UA02G7sth6MS/WMOuW7/aR4GsUlFbuzsP3aalpZdLJZz6PV3eUBUeVbKZcqkuU03GbM7jzdUx//2Viqkmv1C3StXkjmINJAg0WWMiAHPkDkiECMtrx5Pe//OExBYrig6EAN8wmMgthhgFSGkRiIgazZIow8jTbCZMegeB1QMvEYmGwcLBBi6XpgEVGTygYZArLoKZeYECZhgNl0IruiWkuhr/9jrDWzU/fiLqutYtx1UrTWCYyZrQNEClw9Ow0+sOxyxjyVV4xf3VjM5L6Ory5C38lkzRQE9cH4XKtTLD8MsqtXG/VlVnmdLWs0+eNnW9U1NmAS3//+3SmPdJqpiHr0naaYJOIlYEzmmq9EgWaM4RIGBIMrvT//OExBop+fJ4AOcemODCJkOlv4zOCyUALvR8BwCMYoYBGgLAdBKX3MxJ0xwTDFwCjtNp3kS7bq1oJS9S4sWbUSYc1+3+NZ9o3zOfKkHaDHWmw9wAolKXjPl2ISgb+uoUf/4i2p8bpGpttVqdWIMJyetrJnWM5xr2tbV8MSuka7woTNcgVO///+p4oAR5kWCwTJA7lvpS7//6yFXOb7ZixgQ5m/BI1mRPsxwy3yjNAxQwZWokOhkx9ITuqdGhNMw8//OExCUk8b54AOcelNJJQUAnikc2IRgRspgQWmiAEWUaDJ4iFgKWbk/O6hp6aPWGrSiezwFIqgDhCFZlSATwpdrVhS01/7a3X+us//5//zbX+H23lMSwLKyJ/jw9qnEiQmQ//5JBf9Cwg6lMXHhIz/uxP7G1I2ZwaZAIZbs9L4woGYMFgSSCgIPm0NKAxOZj8axDDmnBD1wxIFTIsyDB5GZLFSqBDGpIBRIbBqHUyjC5QMVjeLMHpHpaaYVBKOcx//OExEQjgfp8AOcKmDMa8MAb93blmGgMGGSX68agtYsDu5g8cfrk+f0f1b0P6Ld5gmAApxI533EiEUwwXEGwx//0s8cNaGGs3Akpjv8eOcfXYNtnAHTpqxqZfBJUqoYCoVAg3WIrKJRGc80AQLXGcFOwwKEDD6lAy5X800oDOjmgFYS4TgsozEdAZU4H2PEVIKLPAwicBjcG0EBJImwslAUPjmlKOQAuIAaWCiGpLHyKi4jdRpWWH9R71v9P1P9f//OExGkng858AOUO3NCKHD43PAWeyWLaaCzaww78//////Vf/pqz0Pz62dm1n3f/2qzz3kHPRnc16zR5XHDFKCCVmZHRQevQwyGRtRkQfcR6FKzARiMdbFYBlboO+xQyFV0aC3uZZA4OFXm4iXRvUNLTU1Zy2W3YjFXCC5hkEHT0MWgELXi8+60ZHRoQPg+9hScuY85+sf///n///f7V5NZmQpTDWBl7i/ws9XmFl6v////////1rYrnU6WMgiLj//OExH4le4aAAOaKvJM5DE1Qiuy2Ye0UUDgMC4UKJPRVH4PrHq8voH3TIMArEwmXC/7cI00AwaOTm7wJjMtx7oq8KXCJVLaTUH4ESdbSgO5+UyLG2dTGPIgRU1LpDRigYoKJiTRGjKA3oBKYLcVi+mZBgcdKjBZDytS2ME9SbmytBBbbrSRpoICA9nHhwMA3dU5DkFnooHAprz/////////9FupmM+iojmVkQyWy5dfro7p33o5L5U0OxGVxQVgl//OExJsnLBqEAOUK3Wndmb9aOsaKrvAYYbXTso7BRRmpAWJBV1pTlLAwTPNj2WCJq2MxxG3WSK25cP62FpE6ni8W0RkgAJCx1ZMEyINAsQzSTl8nyWWy1kUJknUrnCqdXQIo6KszLzvc6D4uk8H4Aw3eY5g2x8H4qPZaBIDobOyMcdmNRuef//////+jOVOQ5K////+//RGmjxYsdLjiza0zqAnVhBS63llymFKqB6DAkzm14UToGvMOUeGZICig//OExLEmK9aAAOSO3TVn9x+G1fG6b6clTytctWrj0tCsXgthsdY1FngDyFuQTRI8nTVNaymaupc4VXMlywLeaJqWmO4+g0uDicxUEkuppIowFlqsGJdTEUjAtMU0xT+eLrC05xwtspqo///3/9X69UIlcmOnW9fp//6/+i3NITSY51MUgOJnVTjGnHEBwRkNfHXcJoLM6BxUaBuLMgKhfiz0cwu1CQHigN8seHRrDDRWgoVkts6o+yRbZZIdchfF//OExMsmxAp0AOTU3ThMUJ1QFag4UpoIinmC0GRGuVE01oEYPCR5kxPAsSZ5y4Ro9KTTTLB85TDwzG5hMeVDBURHB8bz6FRQpxiEY2s0MHcwhGYgAtqYchQv/6fQv1ICd2uVLmdGblTiSiSTyP6N///6NdDHPI3SiqLY9HxUfnqhUkKISGnGHFphkCqAbkpgJVUxDhT1AhWpB7OkhTJsTNMBNuEluSwQggWD1nK7HC+lNzmPXhtfrepbO91uu7d7//OExOMrlBJsAOzU3Q7+LwWudwlaypbhdgAQAH2t/YyfRIROGZrzUOOgs37t90GIQHnfrxhyHWpqblyaZbcz7Ywl3vUG8MyZR1qw+CajiZuCGWSxId5cTVlXvPk10MNwSHOBLD2CYCICMbJm58813//8f+6uXvQPO5YddTz70H8wgjFXcG5ynzDePZdf8R/xH/X/d8aiB1arqTzalJVRI4+kz0xMn7N6ajSK6F2rSR9ugyCzA8zMdCdbDZV8iEMG//OExOc07CJwAOYW3Ig6uzAtrawBgICwNvvCYK2l94UCO3/5I3+svN/3YFbF12NC1DFw3j7FeerEIXAOACMGCqVwXwbh8l9Z4p5iGE2hy0rLaNPXeG17rMOBCtGoaSOPQRAhAkC4kLxxWY8fG4sGxpUbkyJyOYisMDcXjcSRsRGhYuR1f//+tUsUQww+ZV9quVKkmcmq7W7WatP/99z1cxHa7UaNzCplrodV5plKlS2De9Z1pSSgg0MPBoVsyXaI//OExMYuBB6AAOPO3YCmKSWCxOkU/s1Qq3RbDupQtW9dqRy36QIOvqHHi/GtskXV36vi3lQ8nBfUJVLxGBABbwwX7eb4nxPThkgKcgpcXHVHUa2L71bftTdvneN86qIDAkBUGlEi0LdZSPVkUrczmYx9v////sNqzWp9J3cpXIhtv///9drtMnatBjTFMZTErK5kbco9iErKvJGfjoeNPh+BBwHl+gQWDgiKNxh5kNaVMQgXUNiFwOOei7FvMLVG//OExMEmHB6IAOPK3TLegnHwHh1rNqQ0gfr14h6rSii5/lEPlOKY+zjKgv5WyPmRZYDnP8mQFoAYL4bHlCo9JSBTq2drKiIjPRSM1CohDR+QOa5trns5xw1Vbfmsis7VX////1x8cQCxAOioJDg0d//9q1P8KB0FTCSoaqKjBx0NVbCwjKS8xiIPhlmFCU4hBoxDDMzGhYznGwxxCxHEueKg8iW8kiBIYpEJJM6dBBIFh1+w6w9z0CSm05DjXHXX//OExNsnCraEAOPUuEsTXWmQnqminujmXgUKZ1LIDiSaKpXZqTjs0Ufrv4260YJghsUGo0pyppgUD6JVTttqXcW3qLtlzUxd2lrHzFFY8yD0dQec5spGpJNkk6mP/nhSam3V9f///////zUtzkQec6j73wpnnlAh//yKj/4ShwRGgEVPjgOZEqqMQ3OmASOcBPBh8CCoFJAoYgV5wRFgUHGExQaolxxg0mDgKxDZhAQGFAOPAFyBAAGMt6xMu+ko//OExPEuSu50AO5WuKWqGoS00l4whnCW6ZSnBdAWYXnL8wCyl5Hhi0NUElq26ekzl0PVJXIPkcomZc6yi0LXtDUOXaXKzv+5YZY/jzmu6/f//OW67kD449/X9jin/1TNym/////1RjEWrlOYejMn///t////7tnIZiKQ6iIuAoscgij01YCZu3AwlUcOOwt6IwDHAJNpT2Bw+mC4GmDgSnaIjA4zBISi+AEAleiHQwMDQwiBtJGAQClFCNxVP4P7//OExOorjBJwAOYK3B1Hcw9OalYk+ljhImWtkZ0zmHYjKZRGbNaW1rc3SS67uijVa/FozqO1G6wK4qub9rOl33usv7ll2/lvmO71jHVnlzQgFg8WO0oyceHj2ZP/zjk61////+ZVGU8xnQuXB4RMKmGmGzz3RP+n/+f7/+vTs5xdCA1Gp5Yani4+9SqcZ0Mg0A9EwIG0WAsFDNkADG0KAExAATQHeNjhYxECUEAkOGlMHBgcBxTgJg4FaHlaCjoW//OExO4uTAZkAO4O3UDxEv4hgfGH8SP9dVdH2RyB94rh9W7zKU2fr87jhV5zCmtcypdSmNPrGYnHKbeeH/h/d97+f9w1vf8z+Zqy4RZjoTHsZaynqZOM//Rzf3qn6f//rqljjVFlJh5IIocLEo+RbMrP831a7f6///91y57KSlC5gqhfEQYHkpCa/qp54uPAs2sowFowwOAULGlSugMhBhAwHGHqYEEwsUkdAMPWguGQlYWDzqvwZgL2t8pcTxNa//OExOcspBJgAOYU3C34kkZQ7hTrYIG+QyqR427GOUoz58otdqVecmJb9ypnl2VU1urB0vpYcivca/O/zLe/3/75+sdb5lnoHomJF99EfKmnM0z/+bpS9q9Kf//6XoeaaWcoTHEDz7Hq6Ov997W20b+n//stNzh0sIoUHAugB4eAWIoyGjiCN6p0BUAyqExivKhkyFTvplBcRkEqpTB8zDKkKg4GxoABCAKELZJGXnXrPp6DQ2FsbNiiM78K7EBV//OExOcr5B5YAOZO3VSBs4zSxqJyigoKd5afcXvU9aK6vQFWr1I7KL0azyvSq7VrUvaWYdmlv3bf/j+P/v/3v//Wt8s62UVESOSyor7OUrKUYP6N96OjLQ2hvo///75lqpREVERwkpWuHamfzt9rogu2t9SKxW///RSlK40OkUSAIWKJAMN5GCluVVcCSEYwHHF4JywoDjYUCjNjseDAEUGYpBoZEmuk6+UFNaZqIgq5IjscWeTMUWBtE20x1giz//OExOotDApMAO4K3dHVjJpMua9DruvqtGmZq7U7Nw+/UOP/D8Yp5BK5NuDHVep831lDv16l2moLUyHwsgegqHkhGRvwhnvo5zkDyZFXiOpZ3llW02tVQo0UQQytKPaVRuv+4j/+P//+vvqG1+VWTWBwJiwdcqE4duWlDjoGS6Lu+1QA8SkWOFwq5Qq5KnZFhAwoyHziNZ8XiTKLTlAcjEAj7ILQFNtgYNJmNrJBImnqEhccx3N6FAm/hiNNSgRl//OExOgtWso4AN4QuC7UbibZm1m73wzQRqmmbzvWZ3CAYxMik0ouyvUJwlqLPQqOGrlIGRNuwu5TUVWtW8uRFWfWanlSz3m5cZfLcRF4tPHpUo9hqliem7So5QBisAuWMpGK3rteddc+m5qnarJAs0xsO0oqEkukqsxhp8GuQikm6kU/cPI3MJbWHl9M1CgUeUGhBFXgYERFupJMFrSt/LNpnMFLqcdlrgooupSQO/sCWeRWUymdpqPGmoV22Yg7//OExOUmUfI0AM4SmNauY42LlLfmaXGzWjtDPVp67GZfPVKOlpaXdyVWabVbGWWEqRIytzWs5iiWAaBK9k46tS+sqNNnS8Wh8i7pnfGqO77faM7vTXJtTaZEyq/JOdeG3ZlbcPt49NmbWNmZWxO5EXVX6nT9s33WREe01u+d229bXfT2PfS2K+Vfj9/yVQghtK7s9yI40kkzrwzJqWcydZ2mTQCoszokQuQmxLlMnXsGt3rcnlufcKSS19Vhw9a8//OExP4y3DoUAMYM3ChXrqa1vG1LS1dZlxb5xjxZYlt23ePbd6ZlrrF9YtSpMNSeoZr/TvtIpMw+ecU/zslR0phwQbR4pVBAyUYWjXOtH7sSnl5W0pUQ/Nl4ayPoUM04cIrOmU5meRQ6VLMjuhrmSpDNsrCKk2QNNww/7i+rAnKl1vCbf7C2/PuTDqyXFl0OvzGlGwOC4It7poVGzp4NA1BEhVM25ZySudhSVJIUSBF4khO2Q7CKJEfi6KBGijND//OExOUnNDoYAMPG3AVWPrKswXOKoG5mVqLj6mEtSczefVziSjVYjMlHaKDwxpA+ZQWcmo86gxEZTpEVKJEtlEia4NTXR7TBxocZPbrq5iQUJNpRdTzKLa7oiieo4DzTtL/D0cw0vlDwxyWTKjRStahsjjk0WTQR6SK0Ei5SXJx5aKc2luZ8qikSxG5T/WvXMe0mMpqWLVWNzMVk8mOG0SIPGRVCKxKqmkiZFALokAnRyKxTM2qdliJtQw0qQsKu//OExPswnCIAAMpM3aFb1cl0FMpExKWua2blETSr+iPQSp7JjIbkIGpFcXJePpYaKHafjxN13JstpOUbjetRUSRh9DlJtnMdx0nUlpwTPVEwlqoc4y8IFIrKHx3PYdWeXqGKc3UR0YY5xNzToX7vDTKD9N4S1jjiybl+Oa8RKmIqlaFVRxqJUclMlcOqKcbtJhXxx1j+q1T6OpSVuU07ZRqEjTkLFqtJhQoiMF5n29SNtYRll2Jk8WmDCsC9IXI2//OExOst1DH0ANJM3Z6bOCebuRILWWmdmkqTNt3Jm14tvZNEcbCHhb1CCHMdH3XOXhaN+qzIQchTyX2Qlmsqs+bXy31dWroHl/C35uNcN6I11hXp43S69DMh3o1zmrnJF40HVhV+bvGR137mPr4iYX+xXpIxFr1yEJVTXaZVgqlAKkbqKRuVD23b3hlcl2fc4Hzqb3nhnk3/wZeQtLQKNpBkjQikgFZ+D/5IkRJJVAjWg1FlJdNycCDOodBtPBS8//OExOYqVAX4AMpM3aOMKRNYmZLryTQswYP0cGHUYbQxzRSDkB8sg4fTCwtSulHqORj3LtSXGOiRSmDBUhBa6p0ameyZrs9C3mxOKUmMuYZXx1Ke7MjEklQfA0ZZZMnzbUqkbGFps8DaJvykYSSyjFkayCwx8ubKi5mJPmWstzJEY3eZFiuNe12pbxoqnc96xrU8fsXZHKKnWZxlc+ZtMh0Qkf6I1JCTzTJDa56c25IhwVFkzU0bRCrMu4UkptBA//OExO8tBDn0ANJQ3H7ium+dqrIUbKxclRsLI3XFyFiCwy8mHNPPh3nJ3GOze+pSo1BGSWPWmGZy6G61CWaD4eshtT8tJrmFyp4SKlOGysw23q3Swu63arXa/WGBzaPVMUox7VTycnmI2l9JRk7Lw+XmJUXt42e8faiywouSB+Y1KROufWq7p52kxyyvRmb3PVss9MCslOMplVXe0KNYmCAlLm17JDG2+C2HJUi8TCxEeVVTeRtm1opKExNM+9Pz//OExO4rnBH0ANJM3SFAgJ5JklzKJQWsVY3g9N5MsiyaDFnx8PinTpIQY+9C8QbTlTBurtoiEvRr5ndOlHdEnl2a2pLxZaHTKR/i/gu0EEitWfWEkSsPZEyGfJuHvJ1TkzDje2Sp53UUmh6Kg64or8oQ7onHZ525Tl/TmFFNGYWqJ1FezSXam84xl8MwqSVMY/SXp2tWkm0TIxUOJGUGpbB6IbKLNGWWTBHNJZogkWG5zJR8jFiJJGwhgaPELbyZ//OExPIsjDn0ANJM3JQJMzZHjweahshxkZeS4jlZAmoyVDD6TFJGQSImFkJFEjDjTlx0TMjQkNnjNtNyeGwfrys1TEklk1gaDa66wyj9TPqJDImNKb1EyixxyFHk8xdJqLJko8H70aXeOeyrkFCWEwU8DaZFpgz6ZV9ilMddlo6k5srrpyj2TYkehMEaCnAwU7J0ioicSNT5ZMCs6FdEbkw1ZOKj+TTaJISI1GxOYGTLDCqdoF6Po4Km4TJF240b//OExPIvpDnwANJM3Eqj4F9lMyTnsIdQN6tSqtSU21mco2iVr33MBHLuY5M8vJl5S1D4dBd8k2HHUXmoqPox/jdGYryy5ortj/MppQ0uHecjbbvs8+e+IGKtRUMqTDT8VG2zFwmcY7f5npzplXZv9ZKH23XhXj2Qw1C26Jsk+AgnSYzdit36fHdulysv92lnN63WWVPsCYmIRHASCifQiQlDK1JFROuNEtyPkvMyFCyAWJ2DRIJOiZIRCujiApQu//OExOYphBH4AKJM3UaQmap6GW0wJzzcDzzJZuKazJYhGC6kijLqfjUMTUpMrCnsLQZKz7ZBizS0rTkjVTRJ+lJvfGTc5RqEGM5GModbfObuMyjFNAfm1FhJopU9hJK/NeMGWWXwlNk1VVcHJ7k/GOxrUUtYe7FslBSaKLV1UGZIFOamxKaHVN1hhrwua9QUqikRd5hqX5f27jMW6ed7ErVFT2JmBUurBRmyZlpQ24kPCFKLpSyFWjcPNzL3WESj//OExPMw5DnwANJS3DChEs1J9OQSIx4hGEqlxgmI00VdNm12F0KirkZqCZq2U442HvR7IVn+RzcU/hyy3HYe0J8kQMjCbxMkcNSH3heOL0KNqOToQ6JTVzjMo1kEUGQpLXrpJYYyCLWTpqnapr+O8B0/hR6zFPvF6eaQ+KzD2svk0dGpMhG0h/y9QPxkWGbkBjpqswUbMXTRBZugUFoqNFTw+hRG1Jn0XU2ONKSGdwmRIUR7V02ht7ZxVuKMwQaw//OExOIshCH0ANJM3dkLa80zZVecY1UffwkalqSBeT4GcxgkbRt0kBqfL1bZgEjXyH+JOSvwUabDOrTiemnMnj9ysLmfk1RLNlNN41ZneCJb/JzC5v/TaLe/cYU27ulOj+27M5WzKWtstnbcS1evtaa+3Nvk/L3xmuxfn6mSg5E9KUmNe3czpd1a1SxR4X8IJoqtS9ZVsnz6hsquvMvOUPSnUmFJG5E6KvOC26H9Dg0iLKMsHkKxwnQVZOj+VKl8//OExOMo7BH4AKJM3Oy448+wfLGDstpnYFDrB5rZ7+661AOaKg0I50Ph8ptY8H/TIEpSSPrYspSBGS1M7VAHHRqyy02f8+3kjPL1RE3EUbOqdUg5Ni0DMxBBJAjNkls/XEJpsUHcMyzq71jKSJRlES12ok6jJJuNOxFPemBehetLPExO2l7h0M3Ei7AlJ1P419y/6lzKiu50VyliM99DdtzJzaRhlG1IR3JgRJBdGdPjZUvM5DCEnQKI+ZQtmzAq//OExPIvpDHwANMM3V0aAjFuPOksl0TDERK3hGJlCQkdjaREUaRoZhcYUwjpqBIsQeYaQTMAlmdYEmezFWRlFBMmr49JdOToYnqSccQs0mRmTFjmqD8a7ItFulNmd6Pbwos0qK6dPSLm9Pns9Fr9nGJkIbujsU0Fn3kIYcfBs6Zapd2vYKokk6UHO63LSrDZ3rxiwCmhrkpfu/MRSkr1OY25qres57sxvMxIipFApHHPSAiZMUUWEEAgGU5wYgcb//OExOYuhCHwANJM3S7jzAxxyzYNZJ4mTywKFhxKRZHKqDqtZhGsPDBcSmljkNWdrlHUZTFRmPcOyk950pujEOZb5ex5MdnM6Dj1xHQN+YedfapnE+V6SxPWnUCSKH5K9xajMfNOyCqv5UUXXfxY9rg493PmfvnPmKbyV4LmmMpcvt/NOg2APJGClVcCxARVASolzmnVS2oayyJ5RXrp69rpbVUMIxjlbSJqOSTFLNS1YiBINEyKVil+S9IhUimR//OExN8qVA34AMmM3TSaHESKyELCrVUMESJEhZjSKUrEIqRItgimAQDXc3KecmZIozMzKOHAIKqqeZ/ecrP5l5YkxJLe5qLT6cFCc8/1VUdW1WznnvVORIz61q3trmka01GZmZ7zLEqo2q380ijjzP7yRmqqteSJElWRU3qI7yQKCwkG0DBCTBCQpgl4WgJOGYQAszCMEqirLoT8uh6JlJJEDgfEAjEBQukmovCcKnmxldXGSqyqSZw6VLEJYqcL//OExOgqs9XkAHpM3YwNjI0IRoPjA2IBsZGhkaOlC5QuVLFTi6i6iaqSaS8JpbLDI7GVllBAwQYKGCggYQOCDBQwMEHCBwgIGCBgnR5LKjl8syOy2KyyggYUMFDBQQMIHBhgoYGCDhA4OWWWWyyx5bLLP/7LLGVlBAwQeiqqqqmmmmiqqIWpppVMQU1FMy4xMDBVVVVVVVVVVVVVVVVVVVVVVVVVVVVVVVVVVVVVVVVVVVVVVVVVVVVVVVVVVVVV//OExPAuI6T0AHpG3VVVVVVVVVVVVVVVVVVVVVVVVVVVVVVVVVVVVVVVVVVVVVVVVVVVVVVVVVVVVVVVVVVVVVVVVVVVVVVVVVVVVVVVVVVVVVVVVVVVVVVVVVVVVVVVVVVVVVVVVVVVVVVVVVVVVVVVVVVVVVVVVVVVVVVVVVVVVVVVVVVVVVVVVVVVVVVVVVVVVVVVVVVVVVVVVVVVVVVVVVVVVVVVVVVVVVVVVVVVVVVVVVVVVVVVVVVVVVVV\" type=\"audio/mpeg\" />\n",
              "                    Your browser does not support the audio element.\n",
              "                </audio>\n",
              "              "
            ]
          },
          "metadata": {},
          "execution_count": 11
        }
      ]
    },
    {
      "cell_type": "code",
      "source": [
        "gerar_audio(\"Hello, how are you?\", \"en\")\n"
      ],
      "metadata": {
        "colab": {
          "base_uri": "https://localhost:8080/",
          "height": 75
        },
        "id": "jJqs8gXTusXH",
        "outputId": "fa1d85c8-ed7c-4e51-d2e7-25feb5f7b814"
      },
      "execution_count": null,
      "outputs": [
        {
          "output_type": "execute_result",
          "data": {
            "text/plain": [
              "<IPython.lib.display.Audio object>"
            ],
            "text/html": [
              "\n",
              "                <audio  controls=\"controls\" autoplay=\"autoplay\">\n",
              "                    <source src=\"data:audio/mpeg;base64,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\" type=\"audio/mpeg\" />\n",
              "                    Your browser does not support the audio element.\n",
              "                </audio>\n",
              "              "
            ]
          },
          "metadata": {},
          "execution_count": 14
        }
      ]
    },
    {
      "cell_type": "code",
      "source": [
        "def professor_virtual():\n",
        "    print(\"👨‍🏫 Bem-vindo ao seu Professor Virtual de Inglês e Espanhol!\")\n",
        "    idioma = input(\"Escolha o idioma para praticar (en = inglês, es = espanhol): \").strip()\n",
        "    frase = input(\"Digite uma frase para tradução e áudio: \").strip()\n",
        "\n",
        "    traducao = traduzir_texto(frase, idioma)\n",
        "\n",
        "    print(f\"📝 Tradução ({idioma}): {traducao}\")\n",
        "    display(gerar_audio(traducao, idioma))\n",
        "\n",
        "# Para rodar, basta chamar:\n",
        "professor_virtual()\n"
      ],
      "metadata": {
        "colab": {
          "base_uri": "https://localhost:8080/",
          "height": 144
        },
        "id": "B9_3c4s2uxPd",
        "outputId": "fae8b12f-b24e-4545-c85f-c6a8d4d2bfc5"
      },
      "execution_count": null,
      "outputs": [
        {
          "output_type": "stream",
          "name": "stdout",
          "text": [
            "👨‍🏫 Bem-vindo ao seu Professor Virtual de Inglês e Espanhol!\n",
            "Escolha o idioma para praticar (en = inglês, es = espanhol): en\n",
            "Digite uma frase para tradução e áudio: teste\n",
            "📝 Tradução (en): test\n"
          ]
        },
        {
          "output_type": "display_data",
          "data": {
            "text/plain": [
              "<IPython.lib.display.Audio object>"
            ],
            "text/html": [
              "\n",
              "                <audio  controls=\"controls\" autoplay=\"autoplay\">\n",
              "                    <source src=\"data:audio/mpeg;base64,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\" type=\"audio/mpeg\" />\n",
              "                    Your browser does not support the audio element.\n",
              "                </audio>\n",
              "              "
            ]
          },
          "metadata": {}
        }
      ]
    },
    {
      "cell_type": "code",
      "source": [
        "!pip install language-tool-python\n"
      ],
      "metadata": {
        "colab": {
          "base_uri": "https://localhost:8080/"
        },
        "id": "yPHUYVIJu3G5",
        "outputId": "b35088c9-f37d-4251-e8dc-9a05a521d435"
      },
      "execution_count": null,
      "outputs": [
        {
          "output_type": "stream",
          "name": "stdout",
          "text": [
            "Requirement already satisfied: language-tool-python in /usr/local/lib/python3.11/dist-packages (2.9.0)\n",
            "Requirement already satisfied: requests in /usr/local/lib/python3.11/dist-packages (from language-tool-python) (2.32.3)\n",
            "Requirement already satisfied: tqdm in /usr/local/lib/python3.11/dist-packages (from language-tool-python) (4.67.1)\n",
            "Requirement already satisfied: psutil in /usr/local/lib/python3.11/dist-packages (from language-tool-python) (5.9.5)\n",
            "Requirement already satisfied: toml in /usr/local/lib/python3.11/dist-packages (from language-tool-python) (0.10.2)\n",
            "Requirement already satisfied: charset-normalizer<4,>=2 in /usr/local/lib/python3.11/dist-packages (from requests->language-tool-python) (3.4.1)\n",
            "Requirement already satisfied: idna<4,>=2.5 in /usr/local/lib/python3.11/dist-packages (from requests->language-tool-python) (2.10)\n",
            "Requirement already satisfied: urllib3<3,>=1.21.1 in /usr/local/lib/python3.11/dist-packages (from requests->language-tool-python) (2.3.0)\n",
            "Requirement already satisfied: certifi>=2017.4.17 in /usr/local/lib/python3.11/dist-packages (from requests->language-tool-python) (2025.1.31)\n"
          ]
        }
      ]
    },
    {
      "cell_type": "code",
      "source": [
        "import language_tool_python\n",
        "\n",
        "tool = language_tool_python.LanguageTool('pt-BR')  # Definir para português\n",
        "\n",
        "def corrigir_texto(texto):\n",
        "    correcoes = tool.check(texto)\n",
        "    if not correcoes:\n",
        "        return texto, \"Nenhuma correção necessária.\"\n",
        "\n",
        "    frase_corrigida = tool.correct(texto)\n",
        "    return frase_corrigida, f\"Sugestão de correção: {frase_corrigida}\"\n"
      ],
      "metadata": {
        "id": "1bPQbyqju839"
      },
      "execution_count": null,
      "outputs": []
    },
    {
      "cell_type": "code",
      "source": [
        "frase_corrigida, sugestao = corrigir_texto(\"Eu estar estudando ingles\")\n",
        "print(sugestao)\n"
      ],
      "metadata": {
        "colab": {
          "base_uri": "https://localhost:8080/"
        },
        "id": "ZIwabGeRvBeP",
        "outputId": "e72e8fa9-956b-4697-80d8-287a1f50d1a0"
      },
      "execution_count": null,
      "outputs": [
        {
          "output_type": "stream",
          "name": "stdout",
          "text": [
            "Sugestão de correção: Eu estar estudando inglês\n"
          ]
        }
      ]
    },
    {
      "cell_type": "code",
      "source": [
        "import requests\n",
        "\n",
        "def obter_definicao(palavra, idioma=\"en\"):\n",
        "    url = f\"https://api.dictionaryapi.dev/api/v2/entries/{idioma}/{palavra}\"\n",
        "    resposta = requests.get(url)\n",
        "\n",
        "    if resposta.status_code == 200:\n",
        "        dados = resposta.json()\n",
        "        definicao = dados[0][\"meanings\"][0][\"definitions\"][0][\"definition\"]\n",
        "        return f\"📖 Definição de '{palavra}': {definicao}\"\n",
        "    else:\n",
        "        return f\"⚠️ Não foi possível encontrar uma definição para '{palavra}'.\"\n"
      ],
      "metadata": {
        "id": "X4DKAadhvMW5"
      },
      "execution_count": null,
      "outputs": []
    },
    {
      "cell_type": "code",
      "source": [
        "print(obter_definicao(\"computer\", \"en\"))\n"
      ],
      "metadata": {
        "colab": {
          "base_uri": "https://localhost:8080/"
        },
        "id": "qD5b6L_6vOVj",
        "outputId": "75501a1a-9e33-4866-f20b-59f3b4c034ab"
      },
      "execution_count": null,
      "outputs": [
        {
          "output_type": "stream",
          "name": "stdout",
          "text": [
            "📖 Definição de 'computer': A person employed to perform computations; one who computes.\n"
          ]
        }
      ]
    },
    {
      "cell_type": "code",
      "source": [
        "import random\n",
        "\n",
        "# Banco de palavras para o quiz\n",
        "quiz_perguntas = [\n",
        "    {\"pergunta\": \"Qual é a tradução de 'house'?\", \"opcoes\": [\"Casa\", \"Carro\", \"Cadeira\", \"Árvore\"], \"resposta\": \"Casa\"},\n",
        "    {\"pergunta\": \"Como se diz 'perro' em inglês?\", \"opcoes\": [\"Cat\", \"Dog\", \"Bird\", \"Fish\"], \"resposta\": \"Dog\"},\n",
        "    {\"pergunta\": \"O que significa 'tree'?\", \"opcoes\": [\"Pedra\", \"Árvore\", \"Areia\", \"Vento\"], \"resposta\": \"Árvore\"},\n",
        "    {\"pergunta\": \"Como se diz 'livro' em inglês?\", \"opcoes\": [\"Book\", \"Table\", \"Chair\", \"Computer\"], \"resposta\": \"Book\"},\n",
        "]\n",
        "\n",
        "def quiz_interativo():\n",
        "    print(\"\\n🎯 Bem-vindo ao Quiz de Vocabulário! 🎯\\n\")\n",
        "    pontuacao = 0\n",
        "\n",
        "    for questao in random.sample(quiz_perguntas, len(quiz_perguntas)):  # Embaralha as perguntas\n",
        "        print(questao[\"pergunta\"])\n",
        "        opcoes = questao[\"opcoes\"]\n",
        "        random.shuffle(opcoes)  # Embaralha as opções\n",
        "        for i, opcao in enumerate(opcoes, 1):\n",
        "            print(f\"{i}. {opcao}\")\n",
        "\n",
        "        resposta_usuario = input(\"\\nDigite o número da resposta correta: \").strip()\n",
        "\n",
        "        try:\n",
        "            if opcoes[int(resposta_usuario) - 1] == questao[\"resposta\"]:\n",
        "                print(\"✅ Resposta correta!\\n\")\n",
        "                pontuacao += 1\n",
        "            else:\n",
        "                print(f\"❌ Resposta errada! A resposta correta era: {questao['resposta']}\\n\")\n",
        "        except:\n",
        "            print(\"⚠️ Entrada inválida. Tente novamente.\\n\")\n",
        "\n",
        "    print(f\"\\n🎉 Você acertou {pontuacao} de {len(quiz_perguntas)} perguntas! 🎉\")\n",
        "\n",
        "# Para rodar o quiz:\n",
        "# quiz_interativo()\n"
      ],
      "metadata": {
        "id": "_CoECMvxvRui"
      },
      "execution_count": null,
      "outputs": []
    },
    {
      "cell_type": "code",
      "source": [
        "historico_traducoes = []  # Lista para armazenar traduções\n",
        "\n",
        "def salvar_historico(original, traduzido, idioma):\n",
        "    historico_traducoes.append({\"original\": original, \"traduzido\": traduzido, \"idioma\": idioma})\n",
        "\n",
        "def exibir_historico():\n",
        "    if not historico_traducoes:\n",
        "        print(\"📜 Nenhum histórico encontrado.\")\n",
        "        return\n",
        "\n",
        "    print(\"\\n📖 Histórico de Traduções 📖\\n\")\n",
        "    for i, entrada in enumerate(historico_traducoes, 1):\n",
        "        print(f\"{i}. {entrada['original']} ➝ ({entrada['idioma']}) {entrada['traduzido']}\")\n",
        "\n",
        "# Teste: Salvar e exibir histórico\n",
        "# salvar_historico(\"Olá, como vai você?\", \"Hello, how are you?\", \"en\")\n",
        "# exibir_historico()\n"
      ],
      "metadata": {
        "id": "T8_uAZFvvjKG"
      },
      "execution_count": null,
      "outputs": []
    },
    {
      "cell_type": "code",
      "source": [
        "def professor_virtual():\n",
        "    print(\"👨‍🏫 Bem-vindo ao seu Professor Virtual de Inglês e Espanhol!\")\n",
        "    idioma = input(\"Escolha o idioma para praticar (en = inglês, es = espanhol): \").strip()\n",
        "    frase = input(\"Digite uma frase para tradução e áudio: \").strip()\n",
        "\n",
        "    frase_corrigida, sugestao = corrigir_texto(frase)\n",
        "    print(f\"📝 Sugestão de correção: {sugestao}\")\n",
        "\n",
        "    traducao = traduzir_texto(frase_corrigida, idioma)\n",
        "    print(f\"📝 Tradução ({idioma}): {traducao}\")\n",
        "\n",
        "    salvar_historico(frase_corrigida, traducao, idioma)  # Salva no histórico\n",
        "    display(gerar_audio(traducao, idioma))\n",
        "\n",
        "# Para rodar e testar:\n",
        "# professor_virtual()\n",
        "# exibir_historico()\n"
      ],
      "metadata": {
        "id": "X_XGf3MlvmUD"
      },
      "execution_count": null,
      "outputs": []
    },
    {
      "cell_type": "code",
      "source": [
        "def professor_virtual():\n",
        "    print(\"\\n👨‍🏫 Bem-vindo ao seu Professor Virtual de Inglês e Espanhol!\")\n",
        "\n",
        "    idioma = input(\"Escolha o idioma para praticar (en = inglês, es = espanhol): \").strip().lower()\n",
        "    if idioma not in [\"en\", \"es\"]:\n",
        "        print(\"⚠️ Idioma inválido! Escolha 'en' para inglês ou 'es' para espanhol.\")\n",
        "        return\n",
        "\n",
        "    frase = input(\"✍️ Digite uma frase para tradução e áudio: \").strip()\n",
        "\n",
        "    # Correção gramatical\n",
        "    frase_corrigida, sugestao = corrigir_texto(frase)\n",
        "    if frase != frase_corrigida:\n",
        "        print(f\"📝 Sugestão de correção: {frase_corrigida}\")\n",
        "        usar_corrigida = input(\"❓ Deseja usar a frase corrigida? (s/n): \").strip().lower()\n",
        "        if usar_corrigida == \"s\":\n",
        "            frase = frase_corrigida\n",
        "\n",
        "    # Tradução da frase\n",
        "    traducao = traduzir_texto(frase, idioma)\n",
        "    print(f\"✅ Tradução ({idioma}): {traducao}\")\n",
        "\n",
        "    # Salvar no histórico\n",
        "    salvar_historico(frase, traducao, idioma)\n",
        "\n",
        "    # Reprodução de áudio\n",
        "    display(gerar_audio(traducao, idioma))\n",
        "\n",
        "    # Explicação de palavras\n",
        "    palavra_exp = input(\"\\n📖 Deseja obter a definição de alguma palavra da tradução? (s/n): \").strip().lower()\n",
        "    if palavra_exp == \"s\":\n",
        "        palavra = input(\"Digite a palavra que deseja entender melhor: \").strip()\n",
        "        print(obter_definicao(palavra, idioma))\n",
        "\n",
        "    # Histórico de frases\n",
        "    ver_historico = input(\"\\n📜 Deseja ver seu histórico de traduções? (s/n): \").strip().lower()\n",
        "    if ver_historico == \"s\":\n",
        "        exibir_historico()\n",
        "\n",
        "    # Quiz interativo\n",
        "    jogar_quiz = input(\"\\n🎮 Deseja jogar um Quiz de Vocabulário? (s/n): \").strip().lower()\n",
        "    if jogar_quiz == \"s\":\n",
        "        quiz_interativo()\n"
      ],
      "metadata": {
        "id": "tOtvhkFvvrf1"
      },
      "execution_count": null,
      "outputs": []
    },
    {
      "cell_type": "code",
      "source": [
        "import language_tool_python\n",
        "\n",
        "tool = language_tool_python.LanguageTool('pt-BR')  # Configurado para Português\n",
        "\n",
        "def corrigir_texto(texto):\n",
        "    erros = tool.check(texto)\n",
        "\n",
        "    if not erros:\n",
        "        return texto, \"✅ Nenhum erro encontrado.\"\n",
        "\n",
        "    frase_corrigida = tool.correct(texto)\n",
        "\n",
        "    explicacoes = []\n",
        "    for erro in erros:\n",
        "        explicacoes.append(f\"- ❌ {erro.ruleId}: {erro.message}\")\n",
        "\n",
        "    return frase_corrigida, f\"Sugestão de correção: {frase_corrigida}\\n🔍 Erros detectados:\\n\" + \"\\n\".join(explicacoes)\n"
      ],
      "metadata": {
        "id": "vUSm8WA_v3FF"
      },
      "execution_count": null,
      "outputs": []
    },
    {
      "cell_type": "code",
      "source": [
        "import gtts\n",
        "from IPython.display import Audio\n",
        "\n",
        "def gerar_audio(texto, idioma='en', velocidade='normal'):\n",
        "    tts = gtts.gTTS(texto, lang=idioma, slow=(velocidade == 'lento'))\n",
        "    arquivo = \"audio.mp3\"\n",
        "    tts.save(arquivo)\n",
        "    return Audio(arquivo, autoplay=True)\n"
      ],
      "metadata": {
        "id": "i9s1CGmNv7uc"
      },
      "execution_count": null,
      "outputs": []
    },
    {
      "cell_type": "code",
      "source": [
        "import gtts\n",
        "from IPython.display import Audio\n",
        "\n",
        "def gerar_audio(texto, idioma='en', sotaque=\"padrão\", velocidade='normal'):\n",
        "    # Mapeando sotaques disponíveis\n",
        "    sotaques_disponiveis = {\n",
        "        \"en\": {\"padrão\": \"en\", \"americano\": \"en-us\", \"britânico\": \"en-gb\"},\n",
        "        \"es\": {\"padrão\": \"es\", \"espanha\": \"es-es\", \"latino\": \"es-us\"},\n",
        "    }\n",
        "\n",
        "    if idioma in sotaques_disponiveis and sotaque in sotaques_disponiveis[idioma]:\n",
        "        lang_code = sotaques_disponiveis[idioma][sotaque]\n",
        "    else:\n",
        "        lang_code = idioma  # Caso o sotaque não seja encontrado, usa o idioma padrão\n",
        "\n",
        "    tts = gtts.gTTS(texto, lang=lang_code, slow=(velocidade == 'lento'))\n",
        "    arquivo = \"audio.mp3\"\n",
        "    tts.save(arquivo)\n",
        "    return Audio(arquivo, autoplay=True)\n"
      ],
      "metadata": {
        "id": "w_FfPdB0wKwH"
      },
      "execution_count": null,
      "outputs": []
    },
    {
      "cell_type": "code",
      "source": [
        "import random\n",
        "\n",
        "exercicios_gramatica = [\n",
        "    {\"frase\": \"I ___ a student.\", \"opcoes\": [\"am\", \"is\", \"are\"], \"correta\": \"am\", \"explicacao\": \"O verbo 'to be' no presente para 'I' é 'am'.\"},\n",
        "    {\"frase\": \"She ___ very happy today.\", \"opcoes\": [\"am\", \"is\", \"are\"], \"correta\": \"is\", \"explicacao\": \"Usamos 'is' para he/she/it no presente simples.\"},\n",
        "    {\"frase\": \"Ellos ___ en la escuela.\", \"opcoes\": [\"está\", \"están\", \"estamos\"], \"correta\": \"están\", \"explicacao\": \"Em espanhol, 'ellos' usa o verbo 'estar' na forma 'están'.\"},\n",
        "    {\"frase\": \"Nosotros ___ al cine ayer.\", \"opcoes\": [\"vamos\", \"fuimos\", \"iremos\"], \"correta\": \"fuimos\", \"explicacao\": \"O pretérito de 'ir' para 'nosotros' é 'fuimos'.\"},\n",
        "]\n",
        "\n",
        "def exercicio_gramatica():\n",
        "    print(\"\\n📚 Exercício de Gramática 📚\\n\")\n",
        "    questao = random.choice(exercicios_gramatica)\n",
        "\n",
        "    print(f\"Complete a frase: {questao['frase']}\")\n",
        "    for i, opcao in enumerate(questao[\"opcoes\"], 1):\n",
        "        print(f\"{i}. {opcao}\")\n",
        "\n",
        "    resposta_usuario = input(\"\\nDigite o número da resposta correta: \").strip()\n",
        "\n",
        "    try:\n",
        "        if questao[\"opcoes\"][int(resposta_usuario) - 1] == questao[\"correta\"]:\n",
        "            print(\"✅ Resposta correta!\")\n",
        "        else:\n",
        "            print(f\"❌ Resposta errada! A resposta correta era: {questao['correta']}\")\n",
        "\n",
        "        print(f\"📖 Explicação: {questao['explicacao']}\")\n",
        "    except:\n",
        "        print(\"⚠️ Entrada inválida. Tente novamente.\")\n",
        "\n",
        "# Para rodar o exercício:\n",
        "# exercicio_gramatica()\n"
      ],
      "metadata": {
        "id": "wsoV-L7Ewaww"
      },
      "execution_count": null,
      "outputs": []
    },
    {
      "cell_type": "code",
      "source": [
        "exercicios_conversacao = [\n",
        "    {\"pergunta\": \"A: Hi, how are you?\\nB: ___ fine, thanks!\", \"opcoes\": [\"I am\", \"He is\", \"They are\"], \"correta\": \"I am\"},\n",
        "    {\"pergunta\": \"A: ¿Cómo te llamas?\\nB: Me llamo ___\", \"opcoes\": [\"Juan\", \"ella\", \"nosotros\"], \"correta\": \"Juan\"},\n",
        "    {\"pergunta\": \"A: Where ___ from?\\nB: I'm from Brazil.\", \"opcoes\": [\"is\", \"are\", \"am\"], \"correta\": \"are\"},\n",
        "]\n",
        "\n",
        "def exercicio_conversacao():\n",
        "    print(\"\\n🗣️ Exercício de Conversação 🗣️\\n\")\n",
        "    questao = random.choice(exercicios_conversacao)\n",
        "\n",
        "    print(f\"Complete o diálogo:\\n{questao['pergunta']}\")\n",
        "    for i, opcao in enumerate(questao[\"opcoes\"], 1):\n",
        "        print(f\"{i}. {opcao}\")\n",
        "\n",
        "    resposta_usuario = input(\"\\nDigite o número da resposta correta: \").strip()\n",
        "\n",
        "    try:\n",
        "        if questao[\"opcoes\"][int(resposta_usuario) - 1] == questao[\"correta\"]:\n",
        "            print(\"✅ Resposta correta!\")\n",
        "        else:\n",
        "            print(f\"❌ Resposta errada! A resposta correta era: {questao['correta']}\")\n",
        "    except:\n",
        "        print(\"⚠️ Entrada inválida. Tente novamente.\")\n",
        "\n",
        "# Para rodar o exercício:\n",
        "# exercicio_conversacao()\n"
      ],
      "metadata": {
        "id": "0Eo_lhn0w18G"
      },
      "execution_count": null,
      "outputs": []
    },
    {
      "cell_type": "code",
      "source": [
        "exercicios_audio = [\n",
        "    {\"frase\": \"I like to read books.\", \"idioma\": \"en\"},\n",
        "    {\"frase\": \"Me gusta aprender idiomas.\", \"idioma\": \"es\"},\n",
        "    {\"frase\": \"She is going to the market.\", \"idioma\": \"en\"},\n",
        "]\n",
        "\n",
        "def exercicio_audio():\n",
        "    print(\"\\n🎧 Exercício de Audição 🎧\\n\")\n",
        "    questao = random.choice(exercicios_audio)\n",
        "\n",
        "    print(\"🔊 Escute a frase e escreva exatamente o que ouviu.\")\n",
        "    display(gerar_audio(questao[\"frase\"], questao[\"idioma\"]))\n",
        "\n",
        "    resposta_usuario = input(\"\\nDigite a frase que você ouviu: \").strip()\n",
        "\n",
        "    if resposta_usuario.lower() == questao[\"frase\"].lower():\n",
        "        print(\"✅ Resposta correta!\")\n",
        "    else:\n",
        "        print(f\"❌ Resposta errada! A frase correta era: {questao['frase']}\")\n",
        "\n",
        "# Para rodar o exercício:\n",
        "# exercicio_audio()\n"
      ],
      "metadata": {
        "id": "EepsqGv2w4wW"
      },
      "execution_count": null,
      "outputs": []
    },
    {
      "cell_type": "code",
      "source": [
        "import random\n",
        "\n",
        "topicos_estudo = {\n",
        "    \"verbos no passado\": {\n",
        "        \"conteudo\": \"Os verbos no passado em inglês geralmente terminam em '-ed' para verbos regulares. Exemplos: 'play' → 'played', 'talk' → 'talked'. Para verbos irregulares, a forma muda completamente: 'go' → 'went', 'eat' → 'ate'.\",\n",
        "        \"exercicio\": [\n",
        "            {\"frase\": \"Yesterday, I ___ to the park.\", \"opcoes\": [\"go\", \"went\", \"goed\"], \"correta\": \"went\"},\n",
        "            {\"frase\": \"She ___ a cake last night.\", \"opcoes\": [\"bake\", \"baked\", \"baking\"], \"correta\": \"baked\"},\n",
        "        ],\n",
        "        \"audio\": [\"I went to the park yesterday.\", \"She baked a cake last night.\"]\n",
        "    },\n",
        "    \"pronomes em espanhol\": {\n",
        "        \"conteudo\": \"Os pronomes pessoais em espanhol são: Yo (eu), Tú (você), Él/Ella (ele/ela), Nosotros (nós), Vosotros (vocês - informal), Ellos/Ellas (eles/elas).\",\n",
        "        \"exercicio\": [\n",
        "            {\"frase\": \"___ soy estudiante.\", \"opcoes\": [\"Yo\", \"Tú\", \"Ellos\"], \"correta\": \"Yo\"},\n",
        "            {\"frase\": \"Ellos ___ en la universidad.\", \"opcoes\": [\"están\", \"estás\", \"estoy\"], \"correta\": \"están\"},\n",
        "        ],\n",
        "        \"audio\": [\"Yo soy estudiante.\", \"Ellos están en la universidad.\"]\n",
        "    }\n",
        "}\n",
        "\n",
        "def gerar_conteudo_personalizado(topico):\n",
        "    if topico in topicos_estudo:\n",
        "        dados = topicos_estudo[topico]\n",
        "\n",
        "        print(\"\\n📚 Conteúdo de Estudo 📚\\n\")\n",
        "        print(dados[\"conteudo\"])\n",
        "\n",
        "        print(\"\\n📝 Exercícios 📝\\n\")\n",
        "        for questao in dados[\"exercicio\"]:\n",
        "            print(f\"Complete a frase: {questao['frase']}\")\n",
        "            for i, opcao in enumerate(questao[\"opcoes\"], 1):\n",
        "                print(f\"{i}. {opcao}\")\n",
        "            resposta_usuario = input(\"\\nDigite o número da resposta correta: \").strip()\n",
        "            if questao[\"opcoes\"][int(resposta_usuario) - 1] == questao[\"correta\"]:\n",
        "                print(\"✅ Resposta correta!\\n\")\n",
        "            else:\n",
        "                print(f\"❌ Resposta errada! A resposta correta era: {questao['correta']}\\n\")\n",
        "\n",
        "        print(\"\\n🎧 Áudio 🎧\\n\")\n",
        "        for frase in dados[\"audio\"]:\n",
        "            display(gerar_audio(frase, \"en\" if \"verbos\" in topico else \"es\"))\n",
        "\n",
        "    else:\n",
        "        print(\"⚠️ Tópico não encontrado. Tente algo como 'verbos no passado' ou 'pronomes em espanhol'.\")\n",
        "\n",
        "# Para rodar:\n",
        "# gerar_conteudo_personalizado(\"verbos no passado\")\n",
        "# gerar_conteudo_personalizado(\"pronomes em espanhol\")\n"
      ],
      "metadata": {
        "id": "qAPZgGEdxNQ3"
      },
      "execution_count": null,
      "outputs": []
    },
    {
      "cell_type": "code",
      "source": [
        "import datetime\n",
        "\n",
        "plano_estudos = {\n",
        "    \"segunda-feira\": \"verbos no passado\",\n",
        "    \"terça-feira\": \"pronomes em espanhol\",\n",
        "    \"quarta-feira\": \"gramática básica\",\n",
        "    \"quinta-feira\": \"conversação em inglês\",\n",
        "    \"sexta-feira\": \"audição em espanhol\",\n",
        "    \"sábado\": \"exercícios mistos\",\n",
        "    \"domingo\": \"revisão da semana\"\n",
        "}\n",
        "\n",
        "def modo_aprendizado():\n",
        "    hoje = datetime.datetime.today().strftime('%A').lower()\n",
        "    dias_em_portugues = {\n",
        "        \"monday\": \"segunda-feira\",\n",
        "        \"tuesday\": \"terça-feira\",\n",
        "        \"wednesday\": \"quarta-feira\",\n",
        "        \"thursday\": \"quinta-feira\",\n",
        "        \"friday\": \"sexta-feira\",\n",
        "        \"saturday\": \"sábado\",\n",
        "        \"sunday\": \"domingo\"\n",
        "    }\n",
        "\n",
        "    dia = dias_em_portugues.get(hoje, \"domingo\")\n",
        "    print(f\"\\n📅 Hoje é {dia.capitalize()}! Seu estudo recomendado: {plano_estudos[dia]}.\\n\")\n",
        "    gerar_conteudo_personalizado(plano_estudos[dia])\n",
        "\n",
        "# Para rodar:\n",
        "# modo_aprendizado()\n"
      ],
      "metadata": {
        "id": "EJKqP0E-xhhH"
      },
      "execution_count": null,
      "outputs": []
    },
    {
      "cell_type": "code",
      "source": [
        "!pip install SpeechRecognition pydub\n"
      ],
      "metadata": {
        "colab": {
          "base_uri": "https://localhost:8080/"
        },
        "id": "JHXR_xIDxj9w",
        "outputId": "8ad951d4-4a01-42ed-e601-66dd61555250"
      },
      "execution_count": null,
      "outputs": [
        {
          "output_type": "stream",
          "name": "stdout",
          "text": [
            "Collecting SpeechRecognition\n",
            "  Downloading SpeechRecognition-3.14.1-py3-none-any.whl.metadata (31 kB)\n",
            "Collecting pydub\n",
            "  Downloading pydub-0.25.1-py2.py3-none-any.whl.metadata (1.4 kB)\n",
            "Requirement already satisfied: typing-extensions in /usr/local/lib/python3.11/dist-packages (from SpeechRecognition) (4.12.2)\n",
            "Downloading SpeechRecognition-3.14.1-py3-none-any.whl (32.9 MB)\n",
            "\u001b[2K   \u001b[90m━━━━━━━━━━━━━━━━━━━━━━━━━━━━━━━━━━━━━━━━\u001b[0m \u001b[32m32.9/32.9 MB\u001b[0m \u001b[31m31.2 MB/s\u001b[0m eta \u001b[36m0:00:00\u001b[0m\n",
            "\u001b[?25hDownloading pydub-0.25.1-py2.py3-none-any.whl (32 kB)\n",
            "Installing collected packages: pydub, SpeechRecognition\n",
            "Successfully installed SpeechRecognition-3.14.1 pydub-0.25.1\n"
          ]
        }
      ]
    },
    {
      "cell_type": "code",
      "source": [
        "topicos_estudo = {\n",
        "    \"verbos no passado\": {\n",
        "        \"conteudo\": \"Os verbos no passado em inglês geralmente terminam em '-ed' para verbos regulares. Exemplos: 'play' → 'played', 'talk' → 'talked'.\",\n",
        "        \"exercicio\": [\n",
        "            {\"frase\": \"Yesterday, I ___ to the park.\", \"opcoes\": [\"go\", \"went\", \"goed\"], \"correta\": \"went\"}\n",
        "        ],\n",
        "        \"audio\": [\"I went to the park yesterday.\"]\n",
        "    },\n",
        "    \"futuro simples\": {\n",
        "        \"conteudo\": \"O futuro simples em inglês é formado com 'will' + verbo. Exemplo: 'I will travel tomorrow'.\",\n",
        "        \"exercicio\": [\n",
        "            {\"frase\": \"Tomorrow, she ___ to Spain.\", \"opcoes\": [\"go\", \"will go\", \"went\"], \"correta\": \"will go\"}\n",
        "        ],\n",
        "        \"audio\": [\"She will go to Spain tomorrow.\"]\n",
        "    },\n",
        "    \"preposições de lugar\": {\n",
        "        \"conteudo\": \"As preposições 'in', 'on' e 'at' são usadas para lugares específicos. Exemplo: 'I am in the room'.\",\n",
        "        \"exercicio\": [\n",
        "            {\"frase\": \"The book is ___ the table.\", \"opcoes\": [\"in\", \"on\", \"at\"], \"correta\": \"on\"}\n",
        "        ],\n",
        "        \"audio\": [\"The book is on the table.\"]\n",
        "    }\n",
        "}\n",
        "\n",
        "# Para rodar:\n",
        "# gerar_conteudo_personalizado(\"futuro simples\")\n",
        "# gerar_conteudo_personalizado(\"preposições de lugar\")\n"
      ],
      "metadata": {
        "id": "YNFMWcdRx25R"
      },
      "execution_count": null,
      "outputs": []
    },
    {
      "cell_type": "code",
      "source": [
        "import random\n",
        "\n",
        "respostas_chatbot = {\n",
        "    \"hello\": [\"Hi! How are you?\", \"Hello! What's up?\", \"Hey there!\"],\n",
        "    \"how are you\": [\"I'm fine, thanks! And you?\", \"Doing great! How about you?\"],\n",
        "    \"what's your name\": [\"I'm your AI Language Teacher!\", \"Call me AI Teacher!\"],\n",
        "    \"hola\": [\"¡Hola! ¿Cómo estás?\", \"¡Hola! ¿Qué tal?\"],\n",
        "    \"cómo estás\": [\"Estoy bien, gracias. ¿Y tú?\", \"¡Todo bien! ¿Y tú?\"],\n",
        "}\n",
        "\n",
        "def chatbot_conversacao():\n",
        "    print(\"\\n💬 Bem-vindo ao Chatbot de Conversação! (Digite 'sair' para encerrar)\\n\")\n",
        "\n",
        "    while True:\n",
        "        user_input = input(\"Você: \").strip().lower()\n",
        "        if user_input == \"sair\":\n",
        "            print(\"👋 Até mais! Continue praticando!\")\n",
        "            break\n",
        "\n",
        "        resposta = respostas_chatbot.get(user_input, [\"Desculpe, não entendi.\"])\n",
        "        print(\"Chatbot:\", random.choice(resposta))\n",
        "\n",
        "# Para rodar:\n",
        "# chatbot_conversacao()\n"
      ],
      "metadata": {
        "id": "2B1O2-tJx8Y1"
      },
      "execution_count": null,
      "outputs": []
    },
    {
      "cell_type": "code",
      "source": [
        "!pip install SpeechRecognition pydub gtts\n"
      ],
      "metadata": {
        "colab": {
          "base_uri": "https://localhost:8080/"
        },
        "id": "nKYiBnKSyI4C",
        "outputId": "09cb9706-238b-4a87-b860-e5e73b06ce38"
      },
      "execution_count": null,
      "outputs": [
        {
          "output_type": "stream",
          "name": "stdout",
          "text": [
            "Requirement already satisfied: SpeechRecognition in /usr/local/lib/python3.11/dist-packages (3.14.1)\n",
            "Requirement already satisfied: pydub in /usr/local/lib/python3.11/dist-packages (0.25.1)\n",
            "Requirement already satisfied: gtts in /usr/local/lib/python3.11/dist-packages (2.5.4)\n",
            "Requirement already satisfied: typing-extensions in /usr/local/lib/python3.11/dist-packages (from SpeechRecognition) (4.12.2)\n",
            "Requirement already satisfied: requests<3,>=2.27 in /usr/local/lib/python3.11/dist-packages (from gtts) (2.32.3)\n",
            "Requirement already satisfied: click<8.2,>=7.1 in /usr/local/lib/python3.11/dist-packages (from gtts) (8.1.8)\n",
            "Requirement already satisfied: charset-normalizer<4,>=2 in /usr/local/lib/python3.11/dist-packages (from requests<3,>=2.27->gtts) (3.4.1)\n",
            "Requirement already satisfied: idna<4,>=2.5 in /usr/local/lib/python3.11/dist-packages (from requests<3,>=2.27->gtts) (2.10)\n",
            "Requirement already satisfied: urllib3<3,>=1.21.1 in /usr/local/lib/python3.11/dist-packages (from requests<3,>=2.27->gtts) (2.3.0)\n",
            "Requirement already satisfied: certifi>=2017.4.17 in /usr/local/lib/python3.11/dist-packages (from requests<3,>=2.27->gtts) (2025.1.31)\n"
          ]
        }
      ]
    },
    {
      "cell_type": "code",
      "source": [
        "import speech_recognition as sr\n",
        "import random\n",
        "import gtts\n",
        "from IPython.display import Audio\n",
        "\n",
        "# Banco de respostas do professor virtual\n",
        "respostas_voz = {\n",
        "    \"hello\": [\"Hi! How are you?\", \"Hello! What's up?\", \"Hey there!\"],\n",
        "    \"how are you\": [\"I'm fine, thanks! And you?\", \"Doing great! How about you?\"],\n",
        "    \"what's your name\": [\"I'm your AI Language Teacher!\", \"Call me AI Teacher!\"],\n",
        "    \"hola\": [\"¡Hola! ¿Cómo estás?\", \"¡Hola! ¿Qué tal?\"],\n",
        "    \"cómo estás\": [\"Estoy bien, gracias. ¿Y tú?\", \"¡Todo bien! ¿Y tú?\"],\n",
        "    \"verbos en pasado\": [\"El pasado en inglés se forma con -ed en verbos regulares.\", \"Los verbos irregulares cambian completamente, como 'go' que se vuelve 'went'.\"],\n",
        "}\n",
        "\n",
        "def reconhecer_fala():\n",
        "    recognizer = sr.Recognizer()\n",
        "    with sr.Microphone() as mic:\n",
        "        print(\"\\n🎤 Fale algo em inglês ou espanhol...\")\n",
        "        recognizer.adjust_for_ambient_noise(mic)\n",
        "        audio = recognizer.listen(mic)\n",
        "\n",
        "        try:\n",
        "            texto_reconhecido = recognizer.recognize_google(audio, language=\"en\")\n",
        "            print(f\"🗣️ Você disse (inglês): {texto_reconhecido}\")\n",
        "            return texto_reconhecido.lower()\n",
        "        except:\n",
        "            try:\n",
        "                texto_reconhecido = recognizer.recognize_google(audio, language=\"es\")\n",
        "                print(f\"🗣️ Você disse (espanhol): {texto_reconhecido}\")\n",
        "                return texto_reconhecido.lower()\n",
        "            except:\n",
        "                print(\"❌ Não foi possível reconhecer a fala. Tente novamente!\")\n",
        "                return None\n",
        "\n",
        "def gerar_audio_resposta(texto, idioma='en'):\n",
        "    tts = gtts.gTTS(texto, lang=idioma)\n",
        "    arquivo = \"resposta.mp3\"\n",
        "    tts.save(arquivo)\n",
        "    return Audio(arquivo, autoplay=True)\n",
        "\n",
        "def chat_voz():\n",
        "    print(\"\\n🎧 Chat de Voz Ativado! (Diga 'sair' para encerrar)\\n\")\n",
        "\n",
        "    while True:\n",
        "        fala = reconhecer_fala()\n",
        "        if fala is None:\n",
        "            continue  # Se não reconhecer, tenta novamente\n",
        "        if \"sair\" in fala:\n",
        "            print(\"👋 Até mais! Continue praticando!\")\n",
        "            break\n",
        "\n",
        "        # Encontra a resposta correta ou retorna uma resposta padrão\n",
        "        resposta = respostas_voz.get(fala, [\"Desculpe, não entendi.\"])\n",
        "        resposta_escolhida = random.choice(resposta)\n",
        "        print(f\"Chatbot: {resposta_escolhida}\")\n",
        "\n",
        "        # Define o idioma correto para a resposta\n",
        "        idioma_resposta = \"en\" if fala in respostas_voz and \"how\" in fala or \"hello\" in fala else \"es\"\n",
        "\n",
        "        # Reproduz a resposta em áudio\n",
        "        display(gerar_audio_resposta(resposta_escolhida, idioma_resposta))\n",
        "\n",
        "# Para rodar:\n",
        "# chat_voz()\n"
      ],
      "metadata": {
        "id": "dBe5WTq-yWF9"
      },
      "execution_count": null,
      "outputs": []
    }
  ]
}